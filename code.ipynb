#function to print the board that we have inputted, while also formatting it to look like a grid.
def print_board(b):
    for i in range(len(b)):
        if i%3 and i!=0:
            print("-------------") #for horizontal division
        for j in range(len(b[0])):
            if j%3==0 and j!=0:
                print("|", end="") #for vertical division
            if j == 8: 
                print(b[i][j])
            else:
                print(str(b[i][j]) + " ")
